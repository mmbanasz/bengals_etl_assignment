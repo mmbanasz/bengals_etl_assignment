{
 "cells": [
  {
   "cell_type": "code",
   "execution_count": 24,
   "metadata": {},
   "outputs": [],
   "source": [
    "#imports\n",
    "import boto3\n",
    "from botocore.exceptions import ClientError #for debugging\n",
    "from dotenv import load_dotenv #for env variables\n",
    "import os\n",
    "import pandas as pd"
   ]
  },
  {
   "cell_type": "code",
   "execution_count": 25,
   "metadata": {},
   "outputs": [],
   "source": [
    "#load the variables/password/IDs from the .env file\n",
    "load_dotenv()\n",
    "#get the access and secret key \n",
    "access_key_id = os.getenv('ACCESS_KEY_ID')\n",
    "secret_key = os.getenv('SECRET_ACCESS_KEY')\n",
    "\n",
    "#declare bucket name and data folder name where data will be downloaded to\n",
    "bucket_name = \"mindex-data-analytics-code-challenge\"\n",
    "data_folder = \"/Users/mady/mindex_data_analytics_challenge/data/\"\n",
    "\n",
    "#print  key variables to verify that hold the correct values as what was provided\n",
    "#print('access_key_id: ', access_key_id)\n",
    "#print('secret_key: ', secret_key)\n"
   ]
  },
  {
   "cell_type": "code",
   "execution_count": null,
   "metadata": {},
   "outputs": [
    {
     "name": "stdout",
     "output_type": "stream",
     "text": [
      "bengals.csv downloaded successfully\n",
      "boyd_receiving.csv downloaded successfully\n",
      "chase_receiving.csv downloaded successfully\n",
      "higgins_receiving.csv downloaded successfully\n"
     ]
    }
   ],
   "source": [
    "\n",
    "#create s3 client\n",
    "s3 = boto3.client('s3', aws_access_key_id=access_key_id, aws_secret_access_key=secret_key, region_name='us-east-1')\n",
    "\n",
    "#file names to download\n",
    "files = ['bengals.csv', 'boyd_receiving.csv', 'chase_receiving.csv', 'higgins_receiving.csv']\n",
    "\n",
    "#download each file\n",
    "for file in files:\n",
    "    try:\n",
    "        s3.download_file(bucket_name, file, data_folder + file)\n",
    "        print(file + \" downloaded successfully\")\n",
    "    except Exception as e:\n",
    "        print(file + \"error: \", e)\n",
    "\n",
    " "
   ]
  },
  {
   "cell_type": "code",
   "execution_count": 54,
   "metadata": {},
   "outputs": [
    {
     "name": "stdout",
     "output_type": "stream",
     "text": [
      "Boyd dataframe created\n",
      "Chase dataframe created\n",
      "Higgins dataframe created\n",
      "****** Boyd df ****** \n",
      "     Week  Yards  TD Player\n",
      "0  REG1     32   0   Boyd\n",
      "1  REG2     73   0   Boyd\n",
      "2  REG3     36   1   Boyd\n",
      "3  REG4    118   0   Boyd\n",
      "4  REG5     24   0   Boyd\n",
      "****** Higgins df ****** \n",
      "     Week  Yards  TD   Player\n",
      "0  REG1     58   1  Higgins\n",
      "1  REG2     60   1  Higgins\n",
      "2  REG5     32   0  Higgins\n",
      "3  REG6     44   0  Higgins\n",
      "4  REG7     62   0  Higgins\n",
      "****** Higgins df ****** \n",
      "     Week  Yards  TD Player\n",
      "0  REG1    101   1  Chase\n",
      "1  REG2     54   1  Chase\n",
      "2  REG3     65   2  Chase\n",
      "3  REG4     77   0  Chase\n",
      "4  REG5    159   1  Chase\n",
      "****** Bengals df ****** \n",
      "     Week Opponent Location  Result\n",
      "0  PRE1       TB     Away     1.0\n",
      "1  PRE2      WSH     Away     0.0\n",
      "2  PRE3      MIA     Home     0.0\n",
      "3  REG1      MIN     Home     1.0\n",
      "4  REG2      CHI     Away     0.0\n"
     ]
    }
   ],
   "source": [
    "'''\n",
    "Use the pandas library to load each CSV into its own dataframe.\n",
    "'''\n",
    "dataframes = {} #dictionary to hold the dataframes for each player\n",
    "player_files = ['/Users/mady/mindex_data_analytics_challenge/data/boyd_receiving.csv', '/Users/mady/mindex_data_analytics_challenge/data/chase_receiving.csv', '/Users/mady/mindex_data_analytics_challenge/data/higgins_receiving.csv']\n",
    "\n",
    "#put each file into a pandas dataframe\n",
    "for file in player_files:\n",
    "    csv = file.split('/data/')[1]\n",
    "    player_name = csv.split('_')[0].capitalize()\n",
    "    print(player_name + \" dataframe created\")\n",
    "    dataframes[player_name] = pd.read_csv(file)\n",
    "    #add player name as a column\n",
    "    dataframes[player_name]['Player'] = player_name\n",
    "\n",
    "#tst if that worked\n",
    "print('****** Boyd df ****** \\n ', dataframes['Boyd'].head())\n",
    "print('****** Higgins df ****** \\n ',dataframes['Higgins'].head())\n",
    "print('****** Higgins df ****** \\n ',dataframes['Chase'].head())\n",
    "\n",
    "#load bengals data into a panda frame\n",
    "dataframes['Bangals'] = pd.read_csv('/Users/mady/mindex_data_analytics_challenge/data/bengals.csv')\n",
    "print('****** Bengals df ****** \\n ',dataframes['Bangals'].head())\n",
    "\n"
   ]
  },
  {
   "cell_type": "markdown",
   "metadata": {},
   "source": []
  },
  {
   "cell_type": "code",
   "execution_count": 60,
   "metadata": {},
   "outputs": [],
   "source": [
    "'''\n",
    "Join/Merge all of the dataframes together to display one global table that shows\n",
    "the three different receiver’s yards and touchdown (TD) data as well as every\n",
    "game result. Be sure to include Opponent, Location, and Result fields from the\n",
    "bengals.csv file.\n",
    "\n",
    "Replace the ‘1.0’ or ‘0.0’ values in the Result field to display ‘Win’ or ‘Loss’,\n",
    "respectively.\n",
    "'''\n",
    "\n",
    "#concat the player data frames\n",
    "df = pd.concat([dataframes['Boyd'], dataframes['Higgins'], dataframes['Chase']])\n",
    "\n",
    "#join to the bengals data frame\n",
    "df = df.merge(dataframes['Bangals'], on='Week')\n",
    "\n",
    "#replace the 1.0 and 0.0 values in the Result field\n",
    "df = df.replace({'Result': {1.0: 'Win', 0.0: 'Loss'}})\n",
    "\n",
    "#save the global dataframe to a csv file \n",
    "df.to_csv('/Users/mady/mindex_data_analytics_challenge/data/global.csv', index=False)\n"
   ]
  }
 ],
 "metadata": {
  "kernelspec": {
   "display_name": "Python 3",
   "language": "python",
   "name": "python3"
  },
  "language_info": {
   "codemirror_mode": {
    "name": "ipython",
    "version": 3
   },
   "file_extension": ".py",
   "mimetype": "text/x-python",
   "name": "python",
   "nbconvert_exporter": "python",
   "pygments_lexer": "ipython3",
   "version": "3.10.4"
  }
 },
 "nbformat": 4,
 "nbformat_minor": 2
}
