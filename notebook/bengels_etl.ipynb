{
 "cells": [
  {
   "cell_type": "code",
   "execution_count": 7,
   "metadata": {},
   "outputs": [],
   "source": [
    "#imports\n",
    "import boto3\n",
    "from botocore.exceptions import ClientError #for debugging\n",
    "from dotenv import load_dotenv #for env variables\n",
    "import os"
   ]
  },
  {
   "cell_type": "code",
   "execution_count": 8,
   "metadata": {},
   "outputs": [],
   "source": [
    "#load the variables/password/IDs from the .env file\n",
    "load_dotenv()\n",
    "#get the access and secret key \n",
    "access_key_id = os.getenv('ACCESS_KEY_ID')\n",
    "secret_key = os.getenv('SECRET_ACCESS_KEY')\n",
    "\n",
    "#declare bucket name and data folder name where data will be downloaded to\n",
    "bucket_name = \"mindex-data-analytics-code-challenge\"\n",
    "data_folder = \"/Users/mady/mindex_data_analytics_challenge/data\"\n",
    "\n",
    "#print  key variables to verify that hold the correct values as what was provided\n",
    "#print('access_key_id: ', access_key_id)\n",
    "#print('secret_key: ', secret_key)\n"
   ]
  },
  {
   "cell_type": "code",
   "execution_count": 9,
   "metadata": {},
   "outputs": [
    {
     "name": "stdout",
     "output_type": "stream",
     "text": [
      "bengals.csv downloaded successfully\n",
      "boyd_receiving.csv downloaded successfully\n",
      "chase_receiving.csv downloaded successfully\n",
      "higgins_receiving.csv downloaded successfully\n"
     ]
    }
   ],
   "source": [
    "\n",
    "#create s3 client\n",
    "s3 = boto3.client('s3', aws_access_key_id=access_key_id, aws_secret_access_key=secret_key, region_name='us-east-1')\n",
    "\n",
    "#file names to download\n",
    "files = ['bengals.csv', 'boyd_receiving.csv', 'chase_receiving.csv', 'higgins_receiving.csv']\n",
    "\n",
    "#download each file\n",
    "for file in files:\n",
    "    try:\n",
    "        s3.download_file(bucket_name, file, data_folder + file)\n",
    "        print(file + \" downloaded successfully\")\n",
    "    except Exception as e:\n",
    "        print(file + \"error: \", e)\n",
    "\n",
    " "
   ]
  }
 ],
 "metadata": {
  "kernelspec": {
   "display_name": "Python 3",
   "language": "python",
   "name": "python3"
  },
  "language_info": {
   "codemirror_mode": {
    "name": "ipython",
    "version": 3
   },
   "file_extension": ".py",
   "mimetype": "text/x-python",
   "name": "python",
   "nbconvert_exporter": "python",
   "pygments_lexer": "ipython3",
   "version": "3.10.4"
  }
 },
 "nbformat": 4,
 "nbformat_minor": 2
}
